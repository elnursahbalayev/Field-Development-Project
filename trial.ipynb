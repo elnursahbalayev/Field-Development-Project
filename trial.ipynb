{
 "cells": [
  {
   "cell_type": "code",
   "execution_count": 1,
   "metadata": {},
   "outputs": [],
   "source": [
    "import pandas as pd\n",
    "import numpy as np"
   ]
  },
  {
   "cell_type": "code",
   "execution_count": 2,
   "metadata": {},
   "outputs": [],
   "source": [
    "necessary_values = pd.DataFrame()\n",
    "\n",
    "necessary_values['SIM_A'] = [0.3]\n",
    "necessary_values['SIM_Rw'] = [0.265]\n",
    "necessary_values['SIM_Rsh'] = [2.623]\n",
    "necessary_values['SIM_A_FITTING_COEFFICIENT'] =[1.110196874]\n",
    "necessary_values['SIM_M_CEMENTATION_FACTOR'] = [1.5568]\n",
    "necessary_values['SIM_N_SATURATION_EXPONENT'] = [2]\n",
    "\n"
   ]
  },
  {
   "cell_type": "code",
   "execution_count": null,
   "metadata": {},
   "outputs": [],
   "source": [
    "np.power((necessary_values['SIM_A_FITTING_COEFFICIENT'].values[0] *  necessary_values['SIM_Rw'].values[0] * \n",
    "                                     (1-df['Vsh (Larionov Tertiary)'])/(2*np.power(df['Effective Porosity'],necessary_values['SIM_M_CEMENTATION_FACTOR'].values[0])))*\n",
    "                                     (np.sqrt(np.power(df['Vsh (Larionov Tertiary)']/necessary_values['SIM_Rsh'].values[0],2)+\n",
    "                                              (4*np.power(df['Effective Porosity'],necessary_values['SIM_M_CEMENTATION_FACTOR'].values[0]))/\n",
    "                                              (necessary_values['SIM_A_FITTING_COEFFICIENT'].values[0] * necessary_values['SIM_Rw'].values[0] * \n",
    "                                               (1-df['Vsh (Larionov Tertiary)'])*df['Deep Resistivity'])) - df['Vsh (Larionov Tertiary)'] /\n",
    "                                                 necessary_values['SIM_Rsh'].values[0]), 2 / necessary_values['SIM_N_SATURATION_EXPONENT'].values[0])"
   ]
  },
  {
   "cell_type": "code",
   "execution_count": 11,
   "metadata": {},
   "outputs": [
    {
     "data": {
      "text/plain": [
       "2"
      ]
     },
     "execution_count": 11,
     "metadata": {},
     "output_type": "execute_result"
    }
   ],
   "source": [
    "necessary_values['SIM_N_SATURATION_EXPONENT'].values[0]"
   ]
  },
  {
   "cell_type": "code",
   "execution_count": null,
   "metadata": {},
   "outputs": [],
   "source": []
  }
 ],
 "metadata": {
  "kernelspec": {
   "display_name": "streamlit",
   "language": "python",
   "name": "python3"
  },
  "language_info": {
   "codemirror_mode": {
    "name": "ipython",
    "version": 3
   },
   "file_extension": ".py",
   "mimetype": "text/x-python",
   "name": "python",
   "nbconvert_exporter": "python",
   "pygments_lexer": "ipython3",
   "version": "3.10.9"
  },
  "orig_nbformat": 4
 },
 "nbformat": 4,
 "nbformat_minor": 2
}
